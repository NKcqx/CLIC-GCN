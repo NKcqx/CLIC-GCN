{
 "cells": [
  {
   "cell_type": "code",
   "execution_count": 1,
   "source": [
    "import NetCreator\n",
    "import networkx as nx\n",
    "import time\n",
    "import torch\n",
    "import os.path as osp\n",
    "import os\n",
    "\n",
    "from OperatorEmbedding import get_embedding\n",
    "import NetCreator \n"
   ],
   "outputs": [],
   "metadata": {}
  },
  {
   "cell_type": "code",
   "execution_count": 2,
   "source": [
    "def generate():\n",
    "    amount = 100\n",
    "    t = time.strftime(\"%Y-%m-%d\", time.localtime())\n",
    "    path = osp.join(os.getcwd(), 'data', 'Logical Plans', 'generated', t) \n",
    "    for id in range(amount):\n",
    "        G = NetCreator.completeNet()['graph']\n",
    "        nx.write_gpickle(G, path+'_'+str(id))\n"
   ],
   "outputs": [],
   "metadata": {}
  },
  {
   "cell_type": "code",
   "execution_count": 17,
   "source": [
    "for _ in range(10):\n",
    "    G = NetCreator.completeNet()['graph']\n",
    "    n = G.number_of_nodes()\n",
    "    e = G.number_of_edges()\n",
    "    if(not nx.is_weakly_connected(G)):\n",
    "        print('********')\n",
    "        break"
   ],
   "outputs": [],
   "metadata": {}
  },
  {
   "cell_type": "code",
   "execution_count": 2,
   "source": [
    "G = NetCreator.completeNet()['graph']"
   ],
   "outputs": [],
   "metadata": {}
  },
  {
   "cell_type": "code",
   "execution_count": 20,
   "source": [
    "for n in G.nodes:\n",
    "    print(G.nodes[n]['platform'].name)"
   ],
   "outputs": [
    {
     "output_type": "stream",
     "name": "stdout",
     "text": [
      "storm\n",
      "samza\n",
      "javastream\n",
      "samza\n",
      "storm\n",
      "storm\n",
      "storm\n",
      "storm\n",
      "storm\n",
      "storm\n",
      "storm\n",
      "storm\n",
      "storm\n",
      "flink\n",
      "storm\n",
      "storm\n",
      "storm\n",
      "storm\n",
      "storm\n",
      "storm\n",
      "storm\n",
      "storm\n",
      "storm\n",
      "storm\n",
      "storm\n",
      "storm\n",
      "storm\n",
      "storm\n",
      "storm\n",
      "storm\n",
      "storm\n",
      "storm\n"
     ]
    }
   ],
   "metadata": {}
  },
  {
   "cell_type": "code",
   "execution_count": 4,
   "source": [
    "G.number_of_nodes()"
   ],
   "outputs": [
    {
     "output_type": "execute_result",
     "data": {
      "text/plain": [
       "6"
      ]
     },
     "metadata": {},
     "execution_count": 4
    }
   ],
   "metadata": {}
  },
  {
   "cell_type": "code",
   "execution_count": 5,
   "source": [
    "G.number_of_edges()"
   ],
   "outputs": [
    {
     "output_type": "execute_result",
     "data": {
      "text/plain": [
       "5"
      ]
     },
     "metadata": {},
     "execution_count": 5
    }
   ],
   "metadata": {}
  },
  {
   "cell_type": "code",
   "execution_count": 7,
   "source": [
    "for n in G.nodes:\n",
    "    print(G.nodes[n]['platform'])"
   ],
   "outputs": [
    {
     "output_type": "stream",
     "name": "stdout",
     "text": [
      "<platforms.Platform object at 0x7f91c0215210>\n",
      "<platforms.Platform object at 0x7f91c0215210>\n",
      "<platforms.Platform object at 0x7f91c0215210>\n",
      "<platforms.Platform object at 0x7f91c0215210>\n",
      "<platforms.Platform object at 0x7f91c0215210>\n"
     ]
    }
   ],
   "metadata": {}
  },
  {
   "cell_type": "code",
   "execution_count": 6,
   "source": [
    "for n1, n2, _ in list(G.edges(data=True)):\n",
    "    print(n1, n2)\n",
    "    print(G.nodes[n1]['platform'].name)"
   ],
   "outputs": [
    {
     "output_type": "stream",
     "name": "stdout",
     "text": [
      "<operators.Operator object at 0x7f91c3c8b710> <operators.Operator object at 0x7f91c3c8b6d0>\n",
      "apex\n",
      "<operators.Operator object at 0x7f91c3c8b6d0> <operators.Operator object at 0x7f91c3c8ba90>\n",
      "apex\n",
      "<operators.Operator object at 0x7f91c3c8ba90> <operators.Operator object at 0x7f91c3c8fb10>\n",
      "apex\n",
      "<operators.Operator object at 0x7f91c3c8fb10> <operators.Operator object at 0x7f91be019610>\n",
      "apex\n"
     ]
    }
   ],
   "metadata": {}
  },
  {
   "cell_type": "code",
   "execution_count": 30,
   "source": [
    "for n in G.nodes:\n",
    "    print(G.nodes[n]['platform'])"
   ],
   "outputs": [
    {
     "output_type": "stream",
     "name": "stdout",
     "text": [
      "<platforms.Platform object at 0x7fea1896f650>\n",
      "<platforms.Platform object at 0x7fea1896f650>\n",
      "<platforms.Platform object at 0x7fea1896f650>\n"
     ]
    }
   ],
   "metadata": {}
  },
  {
   "cell_type": "code",
   "execution_count": 22,
   "source": [
    "x = [get_embedding(n.name) for n in G.nodes]"
   ],
   "outputs": [],
   "metadata": {}
  },
  {
   "cell_type": "code",
   "execution_count": 18,
   "source": [
    "x"
   ],
   "outputs": [
    {
     "output_type": "execute_result",
     "data": {
      "text/plain": [
       "[array([ 0.01667172, -0.01766417,  0.01586808, -0.02540231,  0.0095831 ,\n",
       "         0.02662785,  0.00997451, -0.01213459], dtype=float32),\n",
       " array([ 0.04816071,  0.00709655, -0.03270233, -0.03643361, -0.0335915 ,\n",
       "        -0.04006913,  0.06010067,  0.05739323], dtype=float32),\n",
       " array([ 0.04919318, -0.01223895, -0.0565662 ,  0.03429526, -0.04614192,\n",
       "        -0.03805524,  0.04314691,  0.0081333 ], dtype=float32)]"
      ]
     },
     "metadata": {},
     "execution_count": 18
    }
   ],
   "metadata": {}
  },
  {
   "cell_type": "code",
   "execution_count": 19,
   "source": [
    "torch.tensor(x, dtype=torch.float)"
   ],
   "outputs": [
    {
     "output_type": "execute_result",
     "data": {
      "text/plain": [
       "tensor([[ 0.0167, -0.0177,  0.0159, -0.0254,  0.0096,  0.0266,  0.0100, -0.0121],\n",
       "        [ 0.0482,  0.0071, -0.0327, -0.0364, -0.0336, -0.0401,  0.0601,  0.0574],\n",
       "        [ 0.0492, -0.0122, -0.0566,  0.0343, -0.0461, -0.0381,  0.0431,  0.0081]])"
      ]
     },
     "metadata": {},
     "execution_count": 19
    }
   ],
   "metadata": {}
  },
  {
   "cell_type": "code",
   "execution_count": 31,
   "source": [
    "from sklearn import preprocessing"
   ],
   "outputs": [],
   "metadata": {}
  },
  {
   "cell_type": "code",
   "execution_count": 42,
   "source": [
    "le = preprocessing.LabelEncoder()\n",
    "oe = preprocessing.OneHotEncoder()"
   ],
   "outputs": [],
   "metadata": {}
  },
  {
   "cell_type": "code",
   "execution_count": 37,
   "source": [
    "import operators, platforms"
   ],
   "outputs": [],
   "metadata": {}
  },
  {
   "cell_type": "code",
   "execution_count": 38,
   "source": [
    "le.fit([o.name for o in operators.all_opt])"
   ],
   "outputs": [
    {
     "output_type": "execute_result",
     "data": {
      "text/plain": [
       "LabelEncoder()"
      ]
     },
     "metadata": {},
     "execution_count": 38
    }
   ],
   "metadata": {}
  },
  {
   "cell_type": "code",
   "execution_count": 41,
   "source": [
    "le.transform(['sin','tan'])"
   ],
   "outputs": [
    {
     "output_type": "execute_result",
     "data": {
      "text/plain": [
       "array([42, 52])"
      ]
     },
     "metadata": {},
     "execution_count": 41
    }
   ],
   "metadata": {}
  },
  {
   "cell_type": "code",
   "execution_count": 47,
   "source": [
    "oe = preprocessing.OneHotEncoder()\n",
    "oe.fit([[o.name] for o in operators.all_opt])"
   ],
   "outputs": [
    {
     "output_type": "execute_result",
     "data": {
      "text/plain": [
       "OneHotEncoder()"
      ]
     },
     "metadata": {},
     "execution_count": 47
    }
   ],
   "metadata": {}
  },
  {
   "cell_type": "code",
   "execution_count": 49,
   "source": [
    "oe.transform([['sin']])"
   ],
   "outputs": [
    {
     "output_type": "execute_result",
     "data": {
      "text/plain": [
       "<1x61 sparse matrix of type '<class 'numpy.float64'>'\n",
       "\twith 1 stored elements in Compressed Sparse Row format>"
      ]
     },
     "metadata": {},
     "execution_count": 49
    }
   ],
   "metadata": {}
  },
  {
   "cell_type": "code",
   "execution_count": null,
   "source": [],
   "outputs": [],
   "metadata": {}
  }
 ],
 "metadata": {
  "interpreter": {
   "hash": "d42d4f7f028074411b1f6fb2dab298a4c3a81c95ec689051d4a05af22b6b3b76"
  },
  "kernelspec": {
   "name": "python3",
   "display_name": "Python 3.7.9 64-bit ('torch1.7': conda)"
  },
  "language_info": {
   "name": "python",
   "version": "3.7.9",
   "mimetype": "text/x-python",
   "codemirror_mode": {
    "name": "ipython",
    "version": 3
   },
   "pygments_lexer": "ipython3",
   "nbconvert_exporter": "python",
   "file_extension": ".py"
  },
  "orig_nbformat": 2
 },
 "nbformat": 4,
 "nbformat_minor": 2
}